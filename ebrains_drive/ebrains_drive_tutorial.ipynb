{
 "cells": [
  {
   "cell_type": "markdown",
   "id": "f2ead1cc-3766-40ed-9e30-e50e97f91f94",
   "metadata": {},
   "source": [
    "# Accessing Collaboratory storage from Python with ebrains_drive"
   ]
  },
  {
   "cell_type": "markdown",
   "id": "c2e1b7a2-7b89-4cd9-ac03-0944d5445b6f",
   "metadata": {},
   "source": [
    "## Installation"
   ]
  },
  {
   "cell_type": "code",
   "execution_count": 3,
   "id": "da294b56-3937-4bd5-8485-4a68615bd7c4",
   "metadata": {},
   "outputs": [
    {
     "name": "stdout",
     "output_type": "stream",
     "text": [
      "Requirement already satisfied: ebrains_drive in /Users/adavison/dev/data/env/lib/python3.9/site-packages (0.5.0)\n",
      "Collecting ebrains_drive\n",
      "  Using cached ebrains_drive-0.5.1-py3-none-any.whl (24 kB)\n",
      "Requirement already satisfied: requests in /Users/adavison/dev/data/env/lib/python3.9/site-packages (from ebrains_drive) (2.28.1)\n",
      "Requirement already satisfied: charset-normalizer<3,>=2 in /Users/adavison/dev/data/env/lib/python3.9/site-packages (from requests->ebrains_drive) (2.1.1)\n",
      "Requirement already satisfied: idna<4,>=2.5 in /Users/adavison/dev/data/env/lib/python3.9/site-packages (from requests->ebrains_drive) (3.3)\n",
      "Requirement already satisfied: urllib3<1.27,>=1.21.1 in /Users/adavison/dev/data/env/lib/python3.9/site-packages (from requests->ebrains_drive) (1.26.12)\n",
      "Requirement already satisfied: certifi>=2017.4.17 in /Users/adavison/dev/data/env/lib/python3.9/site-packages (from requests->ebrains_drive) (2022.6.15.1)\n",
      "Installing collected packages: ebrains_drive\n",
      "  Attempting uninstall: ebrains_drive\n",
      "    Found existing installation: ebrains-drive 0.5.0\n",
      "    Uninstalling ebrains-drive-0.5.0:\n",
      "      Successfully uninstalled ebrains-drive-0.5.0\n",
      "Successfully installed ebrains_drive-0.5.1\n"
     ]
    }
   ],
   "source": [
    "!pip install -U ebrains_drive"
   ]
  },
  {
   "cell_type": "markdown",
   "id": "f8e90f55-a76f-4e6d-952b-665a9608fad5",
   "metadata": {},
   "source": [
    "## Working with the Drive"
   ]
  },
  {
   "cell_type": "code",
   "execution_count": 7,
   "id": "e4a88a75-093f-478e-bd8f-35a4afc31ddb",
   "metadata": {},
   "outputs": [],
   "source": [
    "from ebrains_drive.client import DriveApiClient\n",
    "\n",
    "token = \"...\"\n",
    "drive_client = DriveApiClient(token=token)"
   ]
  },
  {
   "cell_type": "markdown",
   "id": "3c5fc741-3439-4b34-9992-8d58f91dc920",
   "metadata": {},
   "source": [
    "### Get a list of all the repositories (collabs) you have access to:"
   ]
  },
  {
   "cell_type": "code",
   "execution_count": 10,
   "id": "ec3041c8-8f17-4f38-aa54-305f52867feb",
   "metadata": {},
   "outputs": [
    {
     "data": {
      "text/plain": [
       "[ebrains_drive.repo.Repo(id='0aaf3c5a-c1f9-422d-b0ee-0bc2f47984cb', name='My Library'),\n",
       " ebrains_drive.repo.Repo(id='8c0d8dac-b704-4b28-962e-9499821eb3d5', name='SGA3 T6.10'),\n",
       " ebrains_drive.repo.Repo(id='3434102f-045f-4d71-b627-3e1d39a4bf95', name='SP9_SGA2_DeliverablesMilestonesAndReport'),\n",
       " ebrains_drive.repo.Repo(id='c43abe57-2fe5-465f-be28-78fde7a5949c', name='INCF'),\n",
       " ebrains_drive.repo.Repo(id='9ccd81f6-fbcf-4cbc-815d-1e67d98cd694', name='SP9_SGA2_DeliverablesAndMilestones_ReadOnlyOfSubmittedVersions'),\n",
       " ebrains_drive.repo.Repo(id='47995dbc-f576-4008-a76c-eefbfd818529', name='HBP Data Curation - Internal'),\n",
       " ebrains_drive.repo.Repo(id='c11f95c0-59fd-428f-b02e-2238566c8499', name='Technical Coordination'),\n",
       " ebrains_drive.repo.Repo(id='353e8524-341a-4b55-ac95-a211b9d6b525', name='d-df3c050e-e9fc-4764-8f6e-1015b8cf74e0'),\n",
       " ebrains_drive.repo.Repo(id='332057bb-1078-4aaa-9b85-c95da9122428', name='Data sharing collab template'),\n",
       " ebrains_drive.repo.Repo(id='851213ea-1024-428f-8fe1-005344492035', name='Tech Coordination Weeklies')]"
      ]
     },
     "execution_count": 10,
     "metadata": {},
     "output_type": "execute_result"
    }
   ],
   "source": [
    "list_repos =  drive_client.repos.list_repos()\n",
    "list_repos[:10]"
   ]
  },
  {
   "cell_type": "markdown",
   "id": "177e481e-e071-40e8-b76c-dc4253a2688b",
   "metadata": {},
   "source": [
    "### Get information about a specific repository"
   ]
  },
  {
   "cell_type": "code",
   "execution_count": 18,
   "id": "e46224b8-5eeb-4c55-be0c-6e5055bff383",
   "metadata": {},
   "outputs": [
    {
     "data": {
      "text/plain": [
       "{'client': DriveApiClient[server=https://drive.ebrains.eu, user=None],\n",
       " 'type': 'grepo',\n",
       " 'id': 'f5cf4964-f095-49bd-8c34-e4ffda05a497',\n",
       " 'name': 'Data Curation',\n",
       " 'groupid': 819,\n",
       " 'group_name': 'collab-data-curation-administrator',\n",
       " 'owner': 'collab-data-curation-administrator',\n",
       " 'mtime': 1693295293,\n",
       " 'mtime_relative': '<time datetime=\"2023-08-29T07:48:13\" is=\"relative-time\" title=\"Tue, 29 Aug 2023 07:48:13 +0000\" >10 days ago</time>',\n",
       " 'modifier_email': 'ingvildeb',\n",
       " 'modifier_name': 'ingvildeb',\n",
       " 'modifier_contact_email': 'ingvildeb',\n",
       " 'size': 35897932,\n",
       " 'encrypted': False,\n",
       " 'permission': 'rw',\n",
       " 'root': '',\n",
       " 'head_commit_id': '8d3d1922a3c583cb64701abd3552c9b48f91ca43',\n",
       " 'version': 1,\n",
       " 'share_from': 'platform@humanbrainproject.eu',\n",
       " 'share_from_name': 'platform',\n",
       " 'share_from_contact_email': 'platform@humanbrainproject.eu'}"
      ]
     },
     "execution_count": 18,
     "metadata": {},
     "output_type": "execute_result"
    }
   ],
   "source": [
    "repo_obj = drive_client.repos.get_repos_by_name(\"Data Curation\")[0]\n",
    "repo_obj.__dict__"
   ]
  },
  {
   "cell_type": "markdown",
   "id": "b72d8699-3403-4fe6-8bb3-03fd398c25f2",
   "metadata": {},
   "source": [
    "### List repository contents"
   ]
  },
  {
   "cell_type": "code",
   "execution_count": 19,
   "id": "fd781fba-1487-4848-80b4-205bfee97967",
   "metadata": {},
   "outputs": [
    {
     "data": {
      "text/plain": [
       "[SeafDir[repo=f5cf49, path=/.ipynb_checkpoints, entries=2],\n",
       " SeafDir[repo=f5cf49, path=/Example programmatic access, entries=5],\n",
       " SeafDir[repo=f5cf49, path=/Example programmatic metadata ingestion, entries=2],\n",
       " SeafFile[repo=f5cf49, path=/2170.pdf, size=112862],\n",
       " SeafFile[repo=f5cf49, path=/DataOrganisation.zip, size=1285051],\n",
       " SeafFile[repo=f5cf49, path=/DataOrganisationNew.zip, size=1082056],\n",
       " SeafFile[repo=f5cf49, path=/EBRAINS Data Provision Protocol.pdf, size=128137],\n",
       " SeafFile[repo=f5cf49, path=/EBRAINS-Atlas-Integration.pdf, size=7025095],\n",
       " SeafFile[repo=f5cf49, path=/EBRAINS-Curation-Researchers-Guide.pdf, size=8224967],\n",
       " SeafFile[repo=f5cf49, path=/EBRAINS-Data-Organisation.pdf, size=1664123],\n",
       " SeafFile[repo=f5cf49, path=/EBRAINS-Data-Storage.pdf, size=1878183],\n",
       " SeafFile[repo=f5cf49, path=/EBRAINS-DataDescriptor_v2.docx, size=441386],\n",
       " SeafFile[repo=f5cf49, path=/EBRAINS-DataDescriptor_v3.1.docx, size=56505],\n",
       " SeafFile[repo=f5cf49, path=/EBRAINS-DataDescriptor_v3.docx, size=59022],\n",
       " SeafFile[repo=f5cf49, path=/Ebrains-dd.png, size=660389],\n",
       " SeafFile[repo=f5cf49, path=/ebrains-infographic-data-organisation.pdf, size=724752],\n",
       " SeafFile[repo=f5cf49, path=/ebrains-minimum-required-metadata.xlsx, size=9911],\n",
       " SeafFile[repo=f5cf49, path=/EBRAINS-Model-Curation.pdf, size=2152587],\n",
       " SeafFile[repo=f5cf49, path=/EBRAINS-Neural-Activity-Resource.pdf, size=2155116],\n",
       " SeafFile[repo=f5cf49, path=/EBRAINS-Regulation-and-Legislation.pdf, size=1663108],\n",
       " SeafFile[repo=f5cf49, path=/EBRAINS-Share-Software.pdf, size=460837],\n",
       " SeafFile[repo=f5cf49, path=/EBRAINS-token.ipynb, size=2566],\n",
       " SeafFile[repo=f5cf49, path=/EBRAINS_consent_template_v3.docx, size=40505],\n",
       " SeafFile[repo=f5cf49, path=/EBRAINS_Metadata-Template.xlsx, size=26960],\n",
       " SeafFile[repo=f5cf49, path=/KG-prog-access-demo.ipynb, size=11083],\n",
       " SeafFile[repo=f5cf49, path=/Metadata_Template_CommonCurationTrack_Complete.xlsx, size=100281],\n",
       " SeafFile[repo=f5cf49, path=/Metadata_Template_CommonTrack_ExperimentalDetails.xlsx, size=112448],\n",
       " SeafFile[repo=f5cf49, path=/old-page-backup-Collabs.data-curation.WebHome.zip, size=4114262],\n",
       " SeafFile[repo=f5cf49, path=/Report - Neuron in Striatum.pdf, size=657880],\n",
       " SeafFile[repo=f5cf49, path=/Viewer functionality_ user specifications.pdf, size=43545]]"
      ]
     },
     "execution_count": 19,
     "metadata": {},
     "output_type": "execute_result"
    }
   ],
   "source": [
    "dir_obj = repo_obj.get_dir('/') # specify dir path; '/' signifies root directory\n",
    "dir_obj.ls()"
   ]
  },
  {
   "cell_type": "markdown",
   "id": "84c1d492-3a02-4190-adc5-ee0c33435982",
   "metadata": {},
   "source": [
    "### Get information about a file"
   ]
  },
  {
   "cell_type": "code",
   "execution_count": 20,
   "id": "a298a72d-8e75-4ba0-8abe-3127e20fa3d8",
   "metadata": {},
   "outputs": [
    {
     "data": {
      "text/plain": [
       "{'client': DriveApiClient[server=https://drive.ebrains.eu, user=None],\n",
       " 'repo': ebrains_drive.repo.Repo(id='f5cf4964-f095-49bd-8c34-e4ffda05a497', name='Data Curation'),\n",
       " 'path': '/EBRAINS-Curation-Researchers-Guide.pdf',\n",
       " 'id': 'e14f18e14380e63952affe3cb5945fbb748e97ea',\n",
       " 'type': 'file',\n",
       " 'size': 8224967}"
      ]
     },
     "execution_count": 20,
     "metadata": {},
     "output_type": "execute_result"
    }
   ],
   "source": [
    "file_obj = repo_obj.get_file(\"/EBRAINS-Curation-Researchers-Guide.pdf\") # specify file path\n",
    "file_obj.__dict__"
   ]
  },
  {
   "cell_type": "code",
   "execution_count": 21,
   "id": "7495ebea-d06b-4a22-9510-1cdd81d93400",
   "metadata": {},
   "outputs": [
    {
     "data": {
      "text/plain": [
       "'https://drive.ebrains.eu/seafhttp/files/309e952d-464d-4ee3-923e-f4ffbc14ae5b/EBRAINS-Curation-Researchers-Guide.pdf'"
      ]
     },
     "execution_count": 21,
     "metadata": {},
     "output_type": "execute_result"
    }
   ],
   "source": [
    "file_obj.get_download_link()"
   ]
  },
  {
   "cell_type": "code",
   "execution_count": 22,
   "id": "49920885-a421-45fc-817a-b8eb0e0590be",
   "metadata": {},
   "outputs": [
    {
     "data": {
      "text/plain": [
       "'https://drive.ebrains.eu/f/40fb55b0fe4e46818bbf/'"
      ]
     },
     "execution_count": 22,
     "metadata": {},
     "output_type": "execute_result"
    }
   ],
   "source": [
    "file_obj.get_share_link()"
   ]
  },
  {
   "cell_type": "markdown",
   "id": "13c62dfa-3d69-4a2d-9f99-0e87b072a0fa",
   "metadata": {},
   "source": [
    "### Uploading files"
   ]
  },
  {
   "cell_type": "code",
   "execution_count": 24,
   "id": "7d1aa4de-7f5e-4673-9b31-d327fd769559",
   "metadata": {},
   "outputs": [],
   "source": [
    "my_collab_name = \"put the name of your own collab here\"\n",
    "repo_obj = drive_client.repos.get_repos_by_name(my_collab_name)[0]"
   ]
  },
  {
   "cell_type": "code",
   "execution_count": 25,
   "id": "4f2b9e1c-718c-408f-b86a-9261566aac9d",
   "metadata": {},
   "outputs": [
    {
     "data": {
      "text/plain": [
       "[SeafDir[repo=049447, path=/.ipynb_checkpoints, entries=10],\n",
       " SeafDir[repo=049447, path=/notebooks, entries=12],\n",
       " SeafDir[repo=049447, path=/tmp, entries=6],\n",
       " SeafFile[repo=049447, path=/1-intro-to-brian-neurons.ipynb, size=290970],\n",
       " SeafFile[repo=049447, path=/BrainScaleS_01_Chain.ipynb, size=503762],\n",
       " SeafFile[repo=049447, path=/demo-demo.ipynb, size=16290],\n",
       " SeafFile[repo=049447, path=/demo_PyNN_job.py, size=2643],\n",
       " SeafFile[repo=049447, path=/PyNN_tutorial (1).ipynb, size=414643],\n",
       " SeafFile[repo=049447, path=/PyNN_tutorial.ipynb, size=414643],\n",
       " SeafFile[repo=049447, path=/SciUnit_handson.ipynb, size=28039],\n",
       " SeafFile[repo=049447, path=/simulation_provenance.ipynb, size=20105],\n",
       " SeafFile[repo=049447, path=/SpiNNaker_01_test.ipynb, size=11891],\n",
       " SeafFile[repo=049447, path=/Untitled.ipynb, size=2472],\n",
       " SeafFile[repo=049447, path=/Untitled1.ipynb, size=72],\n",
       " SeafFile[repo=049447, path=/Untitled2.ipynb, size=2629]]"
      ]
     },
     "execution_count": 25,
     "metadata": {},
     "output_type": "execute_result"
    }
   ],
   "source": [
    "dir_obj = repo_obj.get_dir('/') # specify dir path; '/' signifies root directory\n",
    "dir_obj.ls()"
   ]
  },
  {
   "cell_type": "code",
   "execution_count": 27,
   "id": "40b4d273-197c-4fee-b2bc-a88cd5a01432",
   "metadata": {},
   "outputs": [],
   "source": [
    "demo_dir = dir_obj.mkdir(\"ebrains-drive-demo\")"
   ]
  },
  {
   "cell_type": "code",
   "execution_count": 30,
   "id": "766f9e0b-ddbc-4a52-916d-2e52c586255a",
   "metadata": {},
   "outputs": [],
   "source": [
    "with open(\"test_file.txt\", \"w\") as fp:\n",
    "    fp.write(\"1\\n2\\n3\\n\")\n",
    "file_obj = demo_dir.upload_local_file(\"test_file.txt\", overwrite=True)"
   ]
  },
  {
   "cell_type": "code",
   "execution_count": 46,
   "id": "9c40a64e-0fd5-45c2-875c-1d553a9a14bb",
   "metadata": {},
   "outputs": [],
   "source": [
    "from urllib.request import urlopen\n",
    "\n",
    "download_link = file_obj.get_download_link()\n",
    "with urlopen(download_link) as fp:\n",
    "    contents = fp.read().decode(\"utf-8\")"
   ]
  },
  {
   "cell_type": "code",
   "execution_count": 47,
   "id": "20600b53-a5ad-41f5-944f-d1bd0ff5ebfc",
   "metadata": {},
   "outputs": [
    {
     "name": "stdout",
     "output_type": "stream",
     "text": [
      "1\n",
      "2\n",
      "3\n",
      "\n"
     ]
    }
   ],
   "source": [
    "print(contents)"
   ]
  },
  {
   "cell_type": "markdown",
   "id": "674d242d-75e0-4006-8dce-92bfa5e91ea9",
   "metadata": {},
   "source": [
    "## Working with Buckets"
   ]
  },
  {
   "cell_type": "code",
   "execution_count": null,
   "id": "83586333-6ce4-4695-a629-fdf200784f16",
   "metadata": {},
   "outputs": [],
   "source": []
  },
  {
   "cell_type": "code",
   "execution_count": null,
   "id": "f31d0639-a62c-4e9b-bc2e-fa1688b1e77d",
   "metadata": {},
   "outputs": [],
   "source": []
  }
 ],
 "metadata": {
  "kernelspec": {
   "display_name": "Python 3 (ipykernel)",
   "language": "python",
   "name": "python3"
  },
  "language_info": {
   "codemirror_mode": {
    "name": "ipython",
    "version": 3
   },
   "file_extension": ".py",
   "mimetype": "text/x-python",
   "name": "python",
   "nbconvert_exporter": "python",
   "pygments_lexer": "ipython3",
   "version": "3.9.6"
  }
 },
 "nbformat": 4,
 "nbformat_minor": 5
}
