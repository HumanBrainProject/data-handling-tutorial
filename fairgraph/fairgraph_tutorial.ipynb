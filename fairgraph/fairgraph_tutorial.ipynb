{
 "cells": [
  {
   "cell_type": "markdown",
   "id": "9b22b7e5-0898-4380-a51e-67aa0e6e3cdc",
   "metadata": {},
   "source": [
    "# fairgraph"
   ]
  },
  {
   "cell_type": "markdown",
   "id": "6ef62662-d09a-4fc0-b82d-7077d6151bc0",
   "metadata": {},
   "source": [
    "## "
   ]
  },
  {
   "cell_type": "markdown",
   "id": "1be52bdc-3a42-49b5-a0e9-73ac3380169f",
   "metadata": {},
   "source": [
    "## Installation"
   ]
  },
  {
   "cell_type": "code",
   "execution_count": 8,
   "id": "de5587c8-836a-44d8-95d7-784ea8a159fc",
   "metadata": {},
   "outputs": [
    {
     "name": "stdout",
     "output_type": "stream",
     "text": [
      "Requirement already satisfied: fairgraph in /Users/adavison/dev/data/fairgraph (0.11.0)\n",
      "Requirement already satisfied: ebrains-kg-core in /Users/adavison/dev/data/env/lib/python3.9/site-packages (from fairgraph) (0.9.14)\n",
      "Requirement already satisfied: python-dateutil in /Users/adavison/dev/data/env/lib/python3.9/site-packages (from fairgraph) (2.8.2)\n",
      "Requirement already satisfied: tabulate in /Users/adavison/dev/data/env/lib/python3.9/site-packages (from fairgraph) (0.8.10)\n",
      "Requirement already satisfied: requests in /Users/adavison/dev/data/env/lib/python3.9/site-packages (from fairgraph) (2.28.1)\n",
      "Requirement already satisfied: pydantic in /Users/adavison/dev/data/env/lib/python3.9/site-packages (from ebrains-kg-core->fairgraph) (1.10.2)\n",
      "Requirement already satisfied: six>=1.5 in /Users/adavison/dev/data/env/lib/python3.9/site-packages (from python-dateutil->fairgraph) (1.16.0)\n",
      "Requirement already satisfied: charset-normalizer<3,>=2 in /Users/adavison/dev/data/env/lib/python3.9/site-packages (from requests->fairgraph) (2.1.1)\n",
      "Requirement already satisfied: idna<4,>=2.5 in /Users/adavison/dev/data/env/lib/python3.9/site-packages (from requests->fairgraph) (3.3)\n",
      "Requirement already satisfied: urllib3<1.27,>=1.21.1 in /Users/adavison/dev/data/env/lib/python3.9/site-packages (from requests->fairgraph) (1.26.12)\n",
      "Requirement already satisfied: certifi>=2017.4.17 in /Users/adavison/dev/data/env/lib/python3.9/site-packages (from requests->fairgraph) (2022.6.15.1)\n",
      "Requirement already satisfied: typing-extensions>=4.1.0 in /Users/adavison/dev/data/env/lib/python3.9/site-packages (from pydantic->ebrains-kg-core->fairgraph) (4.3.0)\n",
      "Requirement already satisfied: tabulate in /Users/adavison/dev/data/env/lib/python3.9/site-packages (0.8.10)\n"
     ]
    }
   ],
   "source": [
    "! pip install fairgraph\n",
    "! pip install tabulate"
   ]
  },
  {
   "cell_type": "markdown",
   "id": "6671bf3f-aca6-4e29-b523-279be1e16410",
   "metadata": {},
   "source": [
    "## Authentication\n",
    "\n",
    "You will need to retrieve an EBRAINS authentication token. There are several ways to do this. For example you can log in to https://editor.kg.ebrains.eu and then click \"Copy token to clipboard\" in the user menu, top right.\n",
    "\n",
    "Once you have a token, paste it here:"
   ]
  },
  {
   "cell_type": "code",
   "execution_count": 1,
   "id": "70d2889a-f8ad-4cf3-9f84-c441e7e430df",
   "metadata": {},
   "outputs": [],
   "source": [
    "token = \"...\""
   ]
  },
  {
   "cell_type": "markdown",
   "id": "571c0a93-b6a0-4242-8d42-8d558448e166",
   "metadata": {},
   "source": [
    "You can then create a client for communicating with the KG:"
   ]
  },
  {
   "cell_type": "code",
   "execution_count": 2,
   "id": "d7cda65b-b902-4f25-918e-a580329ab408",
   "metadata": {},
   "outputs": [],
   "source": [
    "from fairgraph import KGClient\n",
    "\n",
    "kg_client = KGClient(token, host=\"core.kg.ebrains.eu\")"
   ]
  },
  {
   "cell_type": "markdown",
   "id": "1bb86d44-db03-43f3-87f3-8c6fbc54362f",
   "metadata": {},
   "source": [
    "## Retrieving nodes\n",
    "\n",
    "We'll use the software \"PyNN\" as our example. Let's get a list of all versions of PyNN in the KG:"
   ]
  },
  {
   "cell_type": "code",
   "execution_count": 3,
   "id": "e6a89a37-54a0-4df7-9069-b14862e0adc6",
   "metadata": {},
   "outputs": [
    {
     "name": "stderr",
     "output_type": "stream",
     "text": [
      "Mismatched types: <class 'fairgraph.openminds.core.miscellaneous.comment.Comment'> <> ['https://openminds.ebrains.eu/publications/LearningResource']\n",
      "Mismatched types: <class 'fairgraph.openminds.core.miscellaneous.comment.Comment'> <> ['https://openminds.ebrains.eu/publications/LearningResource']\n",
      "Mismatched types: <class 'fairgraph.openminds.core.miscellaneous.comment.Comment'> <> ['https://openminds.ebrains.eu/publications/LearningResource']\n"
     ]
    }
   ],
   "source": [
    "import fairgraph.openminds.core as omcore\n",
    "omcore.set_error_handling(None)\n",
    "\n",
    "software_versions = omcore.SoftwareVersion.list(kg_client, name=\"PyNN\")\n",
    "software_versions.sort(key=lambda ver: ver.release_date)"
   ]
  },
  {
   "cell_type": "code",
   "execution_count": 18,
   "id": "abc9c487-daf8-4c6e-b5ed-b8d330dcfac0",
   "metadata": {},
   "outputs": [
    {
     "data": {
      "text/html": [
       "<table>\n",
       "<thead>\n",
       "<tr><th>name  </th><th>version  </th><th>release_date       </th></tr>\n",
       "</thead>\n",
       "<tbody>\n",
       "<tr><td>PyNN  </td><td>0.9.5    </td><td>2019-12-05 00:00:00</td></tr>\n",
       "<tr><td>PyNN  </td><td>0.9.6    </td><td>2020-12-17 00:00:00</td></tr>\n",
       "<tr><td>PyNN  </td><td>0.10.0   </td><td>2021-12-06 00:00:00</td></tr>\n",
       "<tr><td>PyNN  </td><td>0.10.1   </td><td>2022-10-13 00:00:00</td></tr>\n",
       "<tr><td>PyNN  </td><td>0.11.0   </td><td>2023-05-23 00:00:00</td></tr>\n",
       "</tbody>\n",
       "</table>"
      ],
      "text/plain": [
       "<IPython.core.display.HTML object>"
      ]
     },
     "metadata": {},
     "output_type": "display_data"
    }
   ],
   "source": [
    "from IPython.display import display, HTML \n",
    "from tabulate import tabulate\n",
    "\n",
    "data = [\n",
    "    {\"name\": ver.name, \"version\": ver.version_identifier, \"release_date\": ver.release_date} \n",
    "    for ver in software_versions\n",
    "]\n",
    "display(HTML(tabulate(data, headers=\"keys\", tablefmt=\"html\")))\n"
   ]
  },
  {
   "cell_type": "code",
   "execution_count": 6,
   "id": "602aa658-c0c7-47d5-85b5-bce47698766e",
   "metadata": {},
   "outputs": [
    {
     "name": "stdout",
     "output_type": "stream",
     "text": [
      "id                         https://kg.ebrains.eu/api/instances/95281d91-fae4-41b3-a23c-ac2c4078e86a\n",
      "space                      software\n",
      "type                       https://openminds.ebrains.eu/core/SoftwareVersion\n",
      "name                       PyNN\n",
      "alias                      PyNN-0.11.0\n",
      "accessibility              KGProxy([<class 'fairgraph.openminds.controlledterms.product_accessibility.ProductAccessibility'>], 'https://kg.ebrains.eu/api/instances/b2ff7a47-b349-48d7-8ce4-cf51868675f1')\n",
      "application_categories     KGProxy([<class 'fairgraph.openminds.controlledterms.software_application_category.SoftwareApplicationCategory'>], 'https://kg.ebrains.eu/api/instances/4355ec3e-8d53-4c59-ba65-931132a78951')\n",
      "copyright                  Copyright(years='2006')\n",
      "custodians                 None\n",
      "description                PyNN (pronounced 'pine') is a simulator-independent language for building neuronal network models.\n",
      "\n",
      "                           In other words, you can write the code for a model once, using the PyNN API and the Python programming language, and then run it without modification on any  simulator that PyNN supports (currently NEURON, NEST and Brian 2) and on a number of neuromorphic hardware systems.\n",
      "\n",
      "                           The PyNN API aims to support modelling at a high-level of abstraction (populations of neurons, layers, columns and the connections between them) while still allowing access to the details of individual neurons and synapses when required. PyNN provides a library of standard neuron, synapse and synaptic plasticity models, which have been verified to work the same on the different supported simulators. PyNN also provides a set of commonly-used connectivity algorithms (e.g. all-to-all, random, distance-dependent, small-world) but makes it easy to provide your own connectivity in a simulator-independent way.\n",
      "\n",
      "                           Even if you don't wish to run simulations on multiple simulators, you may benefit from writing your simulation code using PyNN's powerful, high-level interface. In this case, you can use any neuron or synapse model supported by your simulator, and are not restricted to the standard models.\n",
      "developers                 [KGProxy([<class 'fairgraph.openminds.core.actors.person.Person'>], 'https://kg.ebrains.eu/api/instances/bd554312-9829-4148-8803-cb873d0b32f9'), KGProxy([<class 'fairgraph.openminds.core.actors.person.Person'>], 'https://kg.ebrains.eu/api/instances/3a0ffc43-83dd-4815-99fa-b9cc0a7d83cb'), KGProxy([<class 'fairgraph.openminds.core.actors.person.Person'>], 'https://kg.ebrains.eu/api/instances/1e93cf18-ff46-4b2e-b5e0-67b7aaa0ec45'), KGProxy([<class 'fairgraph.openminds.core.actors.person.Person'>], 'https://kg.ebrains.eu/api/instances/b3b862c4-af6e-438c-9535-ecda5857c117'), KGProxy([<class 'fairgraph.openminds.core.actors.person.Person'>], 'https://kg.ebrains.eu/api/instances/692c91b8-b66e-4a09-804b-c1137c92ceb9'), KGProxy([<class 'fairgraph.openminds.core.actors.person.Person'>], 'https://kg.ebrains.eu/api/instances/d7d08ef5-fa55-4de7-8092-dd2e5c25a764'), KGProxy([<class 'fairgraph.openminds.core.actors.person.Person'>], 'https://kg.ebrains.eu/api/instances/1e907f4d-9627-47d1-bae4-16a8e1507bd8'), KGProxy([<class 'fairgraph.openminds.core.actors.person.Person'>], 'https://kg.ebrains.eu/api/instances/4e3b0f4e-2cdc-4acb-b82e-e4f99ef53ff5'), KGProxy([<class 'fairgraph.openminds.core.actors.person.Person'>], 'https://kg.ebrains.eu/api/instances/4ef469c0-06ca-4d69-b520-2a5221ae695f'), KGProxy([<class 'fairgraph.openminds.core.actors.person.Person'>], 'https://kg.ebrains.eu/api/instances/37851275-c8de-4e33-a2ab-e0d44e8b5c3b'), KGProxy([<class 'fairgraph.openminds.core.actors.person.Person'>], 'https://kg.ebrains.eu/api/instances/0473a43d-5e05-45bb-a281-1b7da40a5bc8'), KGProxy([<class 'fairgraph.openminds.core.actors.person.Person'>], 'https://kg.ebrains.eu/api/instances/85c2192b-c106-4605-8ddc-1573ac66aaf1'), KGProxy([<class 'fairgraph.openminds.core.actors.person.Person'>], 'https://kg.ebrains.eu/api/instances/b6b662bb-9140-45f5-9981-ae28102a7054'), KGProxy([<class 'fairgraph.openminds.core.actors.person.Person'>], 'https://kg.ebrains.eu/api/instances/3c3ab542-4eb2-44a1-8bf9-2a8d7d1d39bb'), KGProxy([<class 'fairgraph.openminds.core.actors.person.Person'>], 'https://kg.ebrains.eu/api/instances/fea02101-31c2-498e-a7d2-1f67145844fa'), KGProxy([<class 'fairgraph.openminds.core.actors.person.Person'>], 'https://kg.ebrains.eu/api/instances/604e268b-ac0d-4dec-afbb-3dae839475a3'), KGProxy([<class 'fairgraph.openminds.core.actors.person.Person'>], 'https://kg.ebrains.eu/api/instances/8e1eb404-3595-40ce-9ea4-13fb9e023d04'), KGProxy([<class 'fairgraph.openminds.core.actors.person.Person'>], 'https://kg.ebrains.eu/api/instances/743b95a0-0131-4185-a967-490750a8ff9f'), KGProxy([<class 'fairgraph.openminds.core.actors.person.Person'>], 'https://kg.ebrains.eu/api/instances/a0c4ee58-5c47-4f69-ac8b-4fc7b89adfac'), KGProxy([<class 'fairgraph.openminds.core.actors.person.Person'>], 'https://kg.ebrains.eu/api/instances/a074474c-127a-45b2-904d-66350fd887e9'), KGProxy([<class 'fairgraph.openminds.core.actors.person.Person'>], 'https://kg.ebrains.eu/api/instances/9409f57e-1729-4b3a-ba6d-3de652ea7500'), KGProxy([<class 'fairgraph.openminds.core.actors.person.Person'>], 'https://kg.ebrains.eu/api/instances/005bd926-b855-4e63-bb91-bca614360e3f'), KGProxy([<class 'fairgraph.openminds.core.actors.person.Person'>], 'https://kg.ebrains.eu/api/instances/0e588b64-dfdf-4711-a54a-ba22a980a681'), KGProxy([<class 'fairgraph.openminds.core.actors.person.Person'>], 'https://kg.ebrains.eu/api/instances/a01efeb9-56d5-4c69-9b68-f38d50f3cd7c'), KGProxy([<class 'fairgraph.openminds.core.actors.person.Person'>], 'https://kg.ebrains.eu/api/instances/2998f206-62b3-4d02-bc57-3479a9e47a9c'), KGProxy([<class 'fairgraph.openminds.core.actors.person.Person'>], 'https://kg.ebrains.eu/api/instances/4956daae-cee6-410d-a3a1-77d59ada783f'), KGProxy([<class 'fairgraph.openminds.core.actors.person.Person'>], 'https://kg.ebrains.eu/api/instances/d905de2b-afa1-46aa-b028-dbc28af78026'), KGProxy([<class 'fairgraph.openminds.core.actors.person.Person'>], 'https://kg.ebrains.eu/api/instances/aff1ab05-d957-4e89-87ca-a228b07439ce'), KGProxy([<class 'fairgraph.openminds.core.actors.person.Person'>], 'https://kg.ebrains.eu/api/instances/b4037b79-918b-43fc-9c0d-337e9e6ac4b4'), KGProxy([<class 'fairgraph.openminds.core.actors.person.Person'>], 'https://kg.ebrains.eu/api/instances/3c008ac1-40d4-4158-aa6c-cfc25d4e36ed')]\n",
      "devices                    [KGProxy([<class 'fairgraph.openminds.controlledterms.operating_device.OperatingDevice'>], 'https://kg.ebrains.eu/api/instances/fc63e396-f1b9-4f0f-9ba0-a38a311882c8'), KGProxy([<class 'fairgraph.openminds.controlledterms.operating_device.OperatingDevice'>], 'https://kg.ebrains.eu/api/instances/4c1021a0-f358-4ab0-ab23-361b44f0e85a'), KGProxy([<class 'fairgraph.openminds.controlledterms.operating_device.OperatingDevice'>], 'https://kg.ebrains.eu/api/instances/d39ade6a-97f3-4fec-8462-8290c55c7aff')]\n",
      "digital_identifier         None\n",
      "features                   [KGProxy([<class 'fairgraph.openminds.controlledterms.software_feature.SoftwareFeature'>], 'https://kg.ebrains.eu/api/instances/accc4ec6-b66e-4ce0-9d0d-b5411b083d6e'), KGProxy([<class 'fairgraph.openminds.controlledterms.software_feature.SoftwareFeature'>], 'https://kg.ebrains.eu/api/instances/573c8896-3eb6-4c38-9cfa-646fd39097e2'), KGProxy([<class 'fairgraph.openminds.controlledterms.software_feature.SoftwareFeature'>], 'https://kg.ebrains.eu/api/instances/0a46c0ba-0acc-42f4-b9a7-c21e3dcafef7'), KGProxy([<class 'fairgraph.openminds.controlledterms.software_feature.SoftwareFeature'>], 'https://kg.ebrains.eu/api/instances/5ff2db71-094b-4978-b3bd-245648f55eaf')]\n",
      "full_documentation         None\n",
      "funding                    [KGProxy([<class 'fairgraph.openminds.core.miscellaneous.funding.Funding'>], 'https://kg.ebrains.eu/api/instances/082a5bf9-1612-4a44-9b19-d6757a0a83ec'), KGProxy([<class 'fairgraph.openminds.core.miscellaneous.funding.Funding'>], 'https://kg.ebrains.eu/api/instances/754aeb36-9420-4484-9b50-6ca0eb806a0d')]\n",
      "has_parts                  None\n",
      "homepage                   https://github.com/NeuralEnsemble/PyNN\n",
      "how_to_cite                None\n",
      "input_formats              [KGProxy([<class 'fairgraph.openminds.core.data.content_type.ContentType'>], 'https://kg.ebrains.eu/api/instances/b112d70f-b7fd-49a6-87cd-9451111b6769'), KGProxy([<class 'fairgraph.openminds.core.data.content_type.ContentType'>], 'https://kg.ebrains.eu/api/instances/bc89b72f-dda3-4d65-a826-d8273617d9e7'), KGProxy([<class 'fairgraph.openminds.core.data.content_type.ContentType'>], 'https://kg.ebrains.eu/api/instances/d29d5a18-98b1-4f38-b7ad-044cccb17ced'), KGProxy([<class 'fairgraph.openminds.core.data.content_type.ContentType'>], 'https://kg.ebrains.eu/api/instances/01458cf2-138b-403f-a7d2-805b7bfc54c1')]\n",
      "is_alternative_version_of  None\n",
      "is_new_version_of          KGProxy([<class 'fairgraph.openminds.core.products.software_version.SoftwareVersion'>], 'https://kg.ebrains.eu/api/instances/040d24b6-ea87-4a91-b839-2d5a2b6a03d9')\n",
      "keywords                   None\n",
      "languages                  KGProxy([<class 'fairgraph.openminds.controlledterms.language.Language'>], 'https://kg.ebrains.eu/api/instances/07a5dc23-b395-4746-aee8-0f770993a35f')\n",
      "licenses                   KGProxy([<class 'fairgraph.openminds.core.data.license.License'>], 'https://kg.ebrains.eu/api/instances/cc878c03-9838-4f09-a856-66c831775430')\n",
      "operating_systems          [KGProxy([<class 'fairgraph.openminds.controlledterms.operating_system.OperatingSystem'>], 'https://kg.ebrains.eu/api/instances/7ee9c76b-9c52-45f8-9c36-a7c9b63e4fc6'), KGProxy([<class 'fairgraph.openminds.controlledterms.operating_system.OperatingSystem'>], 'https://kg.ebrains.eu/api/instances/9bb65b26-79f0-45cf-9ca4-9dfab9896f8a'), KGProxy([<class 'fairgraph.openminds.controlledterms.operating_system.OperatingSystem'>], 'https://kg.ebrains.eu/api/instances/a77d9acb-979d-46f2-961e-2a9d5c28521f')]\n",
      "other_contributions        None\n",
      "output_formats             [KGProxy([<class 'fairgraph.openminds.core.data.content_type.ContentType'>], 'https://kg.ebrains.eu/api/instances/3b566ab6-5479-4faa-b288-96b4bd43e5cb'), KGProxy([<class 'fairgraph.openminds.core.data.content_type.ContentType'>], 'https://kg.ebrains.eu/api/instances/b60e9490-c447-4bd6-8e21-75cd90900f27'), KGProxy([<class 'fairgraph.openminds.core.data.content_type.ContentType'>], 'https://kg.ebrains.eu/api/instances/0dbd72eb-fa70-441e-8a44-88ec50dbcf31')]\n",
      "programming_languages      KGProxy([<class 'fairgraph.openminds.controlledterms.programming_language.ProgrammingLanguage'>], 'https://kg.ebrains.eu/api/instances/553d1f34-1434-4222-9b38-f9d5803a0fe7')\n",
      "related_publications       KGProxy([<class 'fairgraph.openminds.core.digitalIdentifier.doi.DOI'>], 'https://kg.ebrains.eu/api/instances/6f599426-e809-4fbe-8ec6-0dddc8d212c3')\n",
      "release_date               2023-05-23 00:00:00\n",
      "repository                 KGProxy([<class 'fairgraph.openminds.core.data.file_repository.FileRepository'>], 'https://kg.ebrains.eu/api/instances/0897c130-f3af-49e5-865f-09a138fd8019')\n",
      "requirements               ['at least one of the supported simulators: e.g. NEURON, NEST, or Brian.', 'Python (version 3.8-3.10)']\n",
      "support_channels           ['https://groups.google.com/forum/#!forum/neuralensemble', 'https://github.com/NeuralEnsemble/PyNN/issues']\n",
      "version_identifier         0.11.0\n",
      "version_innovation         http://neuralensemble.org/docs/PyNN/releases/0.11.0.html\n",
      "comments                   None\n",
      "is_input_to                None\n",
      "is_old_version_of          KGProxy([<class 'fairgraph.openminds.core.products.software_version.SoftwareVersion'>], 'https://kg.ebrains.eu/api/instances/040d24b6-ea87-4a91-b839-2d5a2b6a03d9')\n",
      "is_part_of                 None\n",
      "is_version_of              KGProxy([<class 'fairgraph.openminds.core.products.software.Software'>], 'https://kg.ebrains.eu/api/instances/bb06ac59-9ada-4b1d-a00a-e2fcafb031f8')\n",
      "learning_resources         [KGProxy([<class 'fairgraph.openminds.publications.learning_resource.LearningResource'>], 'https://kg.ebrains.eu/api/instances/6e520b93-6cef-4b4f-a89e-b76be0bd543e'), KGProxy([<class 'fairgraph.openminds.publications.learning_resource.LearningResource'>], 'https://kg.ebrains.eu/api/instances/3bfa8889-16e1-489b-bb3b-b8c368f1b520')]\n",
      "used_in                    None\n"
     ]
    }
   ],
   "source": [
    "latest_version = software_versions[-1]\n",
    "latest_version.show()"
   ]
  },
  {
   "cell_type": "markdown",
   "id": "cc386b41-dfb3-4cbb-9f67-cdd83a836053",
   "metadata": {},
   "source": [
    "## Following links in the graph\n",
    "\n",
    "There is a **lot** of information here. You'll notice that some of the properties just contain text, like `version_identifier: 0.11.0`, but others contain a `KGProxy`. This represents an \"edge\" in the graph, i.e. a link to another metadata node.\n",
    "\n",
    "To follow these links, we must \"resolve\" them:"
   ]
  },
  {
   "cell_type": "code",
   "execution_count": 7,
   "id": "1754596f-9307-4e7e-b1f8-535b27b7c683",
   "metadata": {},
   "outputs": [],
   "source": [
    "tutorials = [\n",
    "    lr.resolve(kg_client) \n",
    "    for lr in latest_version.learning_resources\n",
    "]"
   ]
  },
  {
   "cell_type": "markdown",
   "id": "9bc6ba3f-f1a2-40e7-82f9-6540696ce5dc",
   "metadata": {},
   "source": [
    "Rather than showing _all_ the metadata this time, we'll just select certain fields (also called \"properties\"). \n",
    "To see a list of all the fields for a learning resource, use:"
   ]
  },
  {
   "cell_type": "code",
   "execution_count": 8,
   "id": "c5d3f51e-131a-4a6b-942e-bae8b5b57f32",
   "metadata": {},
   "outputs": [
    {
     "data": {
      "text/plain": [
       "['name',\n",
       " 'iri',\n",
       " 'about',\n",
       " 'abstract',\n",
       " 'authors',\n",
       " 'cited_publications',\n",
       " 'copyright',\n",
       " 'creation_date',\n",
       " 'custodians',\n",
       " 'digital_identifier',\n",
       " 'editors',\n",
       " 'educational_level',\n",
       " 'funding',\n",
       " 'keywords',\n",
       " 'learning_outcome',\n",
       " 'license',\n",
       " 'modification_date',\n",
       " 'order',\n",
       " 'prerequisite',\n",
       " 'publication_date',\n",
       " 'publisher',\n",
       " 'required_time',\n",
       " 'topic',\n",
       " 'type',\n",
       " 'version_identifier']"
      ]
     },
     "execution_count": 8,
     "metadata": {},
     "output_type": "execute_result"
    }
   ],
   "source": [
    "[f.name for f in tutorials[0].fields]"
   ]
  },
  {
   "cell_type": "code",
   "execution_count": 9,
   "id": "e6e5e7e6-3e34-40bb-8ed9-4d0d93982604",
   "metadata": {},
   "outputs": [
    {
     "data": {
      "text/html": [
       "<table>\n",
       "<thead>\n",
       "<tr><th>name                                  </th><th>iri                         </th><th>learning outcome                                                                                                                                                                                                                                      </th><th>prerequisite                                                                                                          </th></tr>\n",
       "</thead>\n",
       "<tbody>\n",
       "<tr><td>Building and simulating a simple model</td><td>https://youtu.be/zBLNfJiEvRc</td><td>In this tutorial, you will learn how to build a simple network of integrate-and-fire neurons using PyNN, how to run simulation experiments with this network using different simulators, and how to visualize the data generated by these experiments.</td><td>a basic knowledge of neuroscience (high-school level or above); basic familiarity with the Python programming language</td></tr>\n",
       "<tr><td>Installing PyNN on a Linux system     </td><td>https://youtu.be/BZB7xKUK8Vc</td><td>In this tutorial, you will learn how to install PyNN, together with the Brian 2, NEST and NEURON simulators, on Linux.                                                                                                                                </td><td>a basic knowledge of neuroscience (high-school level or above); basic familiarity with the Python programming language</td></tr>\n",
       "</tbody>\n",
       "</table>"
      ],
      "text/plain": [
       "<IPython.core.display.HTML object>"
      ]
     },
     "execution_count": 9,
     "metadata": {},
     "output_type": "execute_result"
    }
   ],
   "source": [
    "data = [\n",
    "    {\"name\": tut.name, \"iri\": tut.iri, \"learning outcome\": tut.learning_outcome, \"prerequisite\": tut.prerequisite}\n",
    "    for tut in tutorials\n",
    "]\n",
    "HTML(tabulate(data, headers=\"keys\", tablefmt=\"html\"))"
   ]
  },
  {
   "cell_type": "markdown",
   "id": "18203f95-c146-46d6-89be-644aae504bec",
   "metadata": {},
   "source": [
    "## Pre-fetching links\n",
    "\n",
    "Following links one at a time can be quite slow. If you know in advance which links you're interested in, \n",
    "you can specify them at the time of the query.\n",
    "\n",
    "Let's re-fetch the latest version of PyNN, but follow some of the links in advance:"
   ]
  },
  {
   "cell_type": "code",
   "execution_count": 10,
   "id": "e843f8e5-9ad2-49c8-8795-76e7bcfb267f",
   "metadata": {},
   "outputs": [
    {
     "name": "stderr",
     "output_type": "stream",
     "text": [
      "Mismatched types: <class 'fairgraph.openminds.core.miscellaneous.comment.Comment'> <> ['https://openminds.ebrains.eu/publications/LearningResource']\n"
     ]
    }
   ],
   "source": [
    "latest_version_with_links = omcore.SoftwareVersion.from_id(latest_version.id, kg_client,\n",
    "                                                           follow_links={\"accessibility\": {}, \"licenses\": {}})"
   ]
  },
  {
   "cell_type": "code",
   "execution_count": 11,
   "id": "1a680c63-33ee-4bda-b6db-57b97366d6be",
   "metadata": {},
   "outputs": [
    {
     "name": "stdout",
     "output_type": "stream",
     "text": [
      "Accessibility (simple query): KGProxy([<class 'fairgraph.openminds.controlledterms.product_accessibility.ProductAccessibility'>], 'https://kg.ebrains.eu/api/instances/b2ff7a47-b349-48d7-8ce4-cf51868675f1')\n",
      "\n",
      "Accessibility (follow_links): ProductAccessibility(name='free access', definition=\"With 'free access' selected, data and metadata are both released and become immediately available without any access restrictions.\", space=None, id=https://kg.ebrains.eu/api/instances/b2ff7a47-b349-48d7-8ce4-cf51868675f1)\n",
      "\n",
      "License (simple query): KGProxy([<class 'fairgraph.openminds.core.data.license.License'>], 'https://kg.ebrains.eu/api/instances/cc878c03-9838-4f09-a856-66c831775430')\n",
      "\n",
      "License (follow_links): License(name='CeCILL Free Software License Agreement v2.1', alias='CECILL-2.1', legal_code=IRI(https://spdx.org/licenses/CECILL-2.1.html), webpages='https://opensource.org/licenses/CECILL-2.1', is_applied_to=[KGProxy([<class 'fairgraph.openminds.core.products.software_version.SoftwareVersion'>], 'https://kg.ebrains.eu/api/instances/040d24b6-ea87-4a91-b839-2d5a2b6a03d9'), KGProxy([<class 'fairgraph.openminds.core.products.software_version.SoftwareVersion'>], 'https://kg.ebrains.eu/api/instances/95281d91-fae4-41b3-a23c-ac2c4078e86a'), KGProxy([<class 'fairgraph.openminds.core.products.software_version.SoftwareVersion'>], 'https://kg.ebrains.eu/api/instances/82caa5f3-ee39-48b5-884f-45eba98be21b'), KGProxy([<class 'fairgraph.openminds.core.products.software_version.SoftwareVersion'>], 'https://kg.ebrains.eu/api/instances/45ee3031-f964-4679-a466-f4a162b2edf9'), KGProxy([<class 'fairgraph.openminds.core.products.software_version.SoftwareVersion'>], 'https://kg.ebrains.eu/api/instances/d5cf4095-46ab-4c5e-bde4-b0f1133d75bc')], space=None, id=https://kg.ebrains.eu/api/instances/cc878c03-9838-4f09-a856-66c831775430)\n"
     ]
    }
   ],
   "source": [
    "print(f\"Accessibility (simple query): {latest_version.accessibility}\\n\")\n",
    "print(f\"Accessibility (follow_links): {latest_version_with_links.accessibility}\\n\")\n",
    "print(f\"License (simple query): {latest_version.licenses}\\n\")\n",
    "print(f\"License (follow_links): {latest_version_with_links.licenses}\")"
   ]
  },
  {
   "cell_type": "markdown",
   "id": "a34f159a-00aa-4cf5-a65a-66b9cb02fe52",
   "metadata": {},
   "source": [
    "You can also follow multiple levels of links, e.g.::"
   ]
  },
  {
   "cell_type": "code",
   "execution_count": 12,
   "id": "90a76d02-521a-4eb4-8798-8f2f9a9e8f3c",
   "metadata": {},
   "outputs": [
    {
     "name": "stderr",
     "output_type": "stream",
     "text": [
      "Mismatched types: <class 'fairgraph.openminds.core.products.model_version.ModelVersion'> <> ['https://openminds.ebrains.eu/publications/LearningResource']\n",
      "Mismatched types: <class 'fairgraph.openminds.core.miscellaneous.comment.Comment'> <> ['https://openminds.ebrains.eu/publications/LearningResource']\n"
     ]
    }
   ],
   "source": [
    "follow_links = {\n",
    "    \"developers\": {\n",
    "        \"affiliations\": {\n",
    "            \"member_of\": {}\n",
    "        }, \n",
    "        \"digital_identifiers\": {}\n",
    "    }\n",
    "}\n",
    "latest_version_with_developers = omcore.SoftwareVersion.from_id(latest_version.id, kg_client, follow_links=follow_links, scope=\"released\")"
   ]
  },
  {
   "cell_type": "code",
   "execution_count": 13,
   "id": "3203b2d3-25a7-4d88-a298-20d78c6b86e7",
   "metadata": {},
   "outputs": [
    {
     "name": "stdout",
     "output_type": "stream",
     "text": [
      "id                    https://kg.ebrains.eu/api/instances/bd554312-9829-4148-8803-cb873d0b32f9\n",
      "space                 None\n",
      "type                  https://openminds.ebrains.eu/core/Person\n",
      "affiliations          Affiliation(member_of=Organization(name='Paris-Saclay Institute of Neuroscience, Centre National de la Recherche Scientifique, Université Paris-Saclay, Saclay, France', alias='NeuroPSI', has_parents=KGProxy([<class 'fairgraph.openminds.core.actors.organization.Organization'>], 'https://kg.ebrains.eu/api/instances/31259b06-91d0-4ad8-acfd-303fc9ed613b'), homepage=IRI(https://neuropsi.cnrs.fr/), has_children=KGProxy([<class 'fairgraph.openminds.core.actors.organization.Organization'>], 'https://kg.ebrains.eu/api/instances/31259b06-91d0-4ad8-acfd-303fc9ed613b'), space=None, id=https://kg.ebrains.eu/api/instances/7bdf4340-c718-45ea-9912-41079799dfd3), start_date=datetime.datetime(2019, 1, 1, 0, 0))\n",
      "alternate_names       None\n",
      "associated_accounts   None\n",
      "contact_information   None\n",
      "digital_identifiers   None\n",
      "family_name           Davison\n",
      "given_name            Andrew P.\n",
      "activities            None\n",
      "comments              None\n",
      "coordinated_projects  None\n",
      "funded                None\n",
      "is_custodian_of       None\n",
      "is_owner_of           None\n",
      "is_provider_of        None\n",
      "manufactured          None\n",
      "published             None\n",
      "started               None\n"
     ]
    }
   ],
   "source": [
    "latest_version_with_developers.developers[0].show()"
   ]
  },
  {
   "cell_type": "markdown",
   "id": "caa3dd40-eaeb-4187-9704-cfbddf07153e",
   "metadata": {},
   "source": [
    "## A few hints and tips\n",
    "\n",
    "If a property contains a link to a single node, it will contain just that node. If it contains a link to multiple nodes, it will contain a list of the nodes. If it doesn't link to anything, the property will contain `None`. If you're trying to automate things, it can be painful to have to check every time whether you have an object, a list, or None. For this, fairgraph provides the utility function `as_list()`:"
   ]
  },
  {
   "cell_type": "code",
   "execution_count": 14,
   "id": "6ecf270e-fda7-49b0-a003-5fac60994d76",
   "metadata": {},
   "outputs": [
    {
     "data": {
      "text/plain": [
       "[42]"
      ]
     },
     "execution_count": 14,
     "metadata": {},
     "output_type": "execute_result"
    }
   ],
   "source": [
    "from fairgraph.utility import as_list\n",
    "\n",
    "as_list(42)"
   ]
  },
  {
   "cell_type": "code",
   "execution_count": 15,
   "id": "78417487-ce69-4990-89e0-e9212e0b6b96",
   "metadata": {},
   "outputs": [
    {
     "data": {
      "text/plain": [
       "[42]"
      ]
     },
     "execution_count": 15,
     "metadata": {},
     "output_type": "execute_result"
    }
   ],
   "source": [
    "as_list([42])"
   ]
  },
  {
   "cell_type": "code",
   "execution_count": 16,
   "id": "50887ad3-2baf-4dea-9a98-620ed97f0b48",
   "metadata": {},
   "outputs": [
    {
     "data": {
      "text/plain": [
       "[]"
      ]
     },
     "execution_count": 16,
     "metadata": {},
     "output_type": "execute_result"
    }
   ],
   "source": [
    "as_list(None)"
   ]
  },
  {
   "cell_type": "markdown",
   "id": "59faaefe-1068-4de2-adf7-2fa46104afd5",
   "metadata": {},
   "source": [
    "Using this, you're always safe to write `for item in as_list(kg_objects):`"
   ]
  },
  {
   "cell_type": "markdown",
   "id": "bd1b10a2-b86a-4388-8a3c-952de6fb99bd",
   "metadata": {},
   "source": [
    "### Getting help\n",
    "\n",
    "The Python docstrings for each class and method contain a lot of helpful information:"
   ]
  },
  {
   "cell_type": "code",
   "execution_count": 28,
   "id": "f20815f2-f6f5-431f-94aa-1dcb3f2a9748",
   "metadata": {},
   "outputs": [
    {
     "name": "stdout",
     "output_type": "stream",
     "text": [
      "Help on class Software in module fairgraph.openminds.core.products.software:\n",
      "\n",
      "class Software(fairgraph.kgobject.KGObject)\n",
      " |  Software(name=None, alias=None, custodians=None, description=None, developers=None, digital_identifier=None, versions=None, homepage=None, how_to_cite=None, comments=None, is_part_of=None, learning_resources=None, id=None, data=None, space=None, scope=None)\n",
      " |  \n",
      " |  Structured information on a software tool (concept level).\n",
      " |  \n",
      " |  Args\n",
      " |  ----\n",
      " |  name : str\n",
      " |      Whole, non-abbreviated name of the software.\n",
      " |  alias : str\n",
      " |      Shortened or fully abbreviated name of the software.\n",
      " |  custodians : ~fairgraph.openminds.core.actors.consortium.Consortium, ~fairgraph.openminds.core.actors.organization.Organization, ~fairgraph.openminds.core.actors.person.Person\n",
      " |      The 'custodian' is a legal person who is responsible for the content and quality of the data, metadata, and/or code of a research product.\n",
      " |  description : str\n",
      " |      Longer statement or account giving the characteristics of the software.\n",
      " |  developers : ~fairgraph.openminds.core.actors.consortium.Consortium, ~fairgraph.openminds.core.actors.organization.Organization, ~fairgraph.openminds.core.actors.person.Person\n",
      " |      Legal person that creates or improves products or services (e.g., software, applications, etc.).\n",
      " |  digital_identifier : ~fairgraph.openminds.core.digitalIdentifier.doi.DOI, ~fairgraph.openminds.core.digitalIdentifier.rrid.RRID, ~fairgraph.openminds.core.digitalIdentifier.swhid.SWHID\n",
      " |      Digital handle to identify objects or legal persons.\n",
      " |  versions : ~fairgraph.openminds.core.products.software_version.SoftwareVersion\n",
      " |      Reference to variants of an original.\n",
      " |  homepage : ~fairgraph.base.IRI\n",
      " |      Main website of the software.\n",
      " |  how_to_cite : str\n",
      " |      Preferred format for citing a particular object or legal person.\n",
      " |  comments : ~fairgraph.openminds.core.miscellaneous.comment.Comment\n",
      " |      reverse of 'about'\n",
      " |  is_part_of : ~fairgraph.openminds.core.products.project.Project, ~fairgraph.openminds.core.miscellaneous.research_product_group.ResearchProductGroup\n",
      " |      reverse of 'hasPart'\n",
      " |  learning_resources : ~fairgraph.openminds.publications.learning_resource.LearningResource\n",
      " |      reverse of 'about'\n",
      " |  \n",
      " |  Method resolution order:\n",
      " |      Software\n",
      " |      fairgraph.kgobject.KGObject\n",
      " |      fairgraph.base.ContainsMetadata\n",
      " |      fairgraph.base.RepresentsSingleObject\n",
      " |      fairgraph.base.Resolvable\n",
      " |      fairgraph.base.SupportsQuerying\n",
      " |      builtins.object\n",
      " |  \n",
      " |  Methods defined here:\n",
      " |  \n",
      " |  __init__(self, name=None, alias=None, custodians=None, description=None, developers=None, digital_identifier=None, versions=None, homepage=None, how_to_cite=None, comments=None, is_part_of=None, learning_resources=None, id=None, data=None, space=None, scope=None)\n",
      " |      Initialize self.  See help(type(self)) for accurate signature.\n",
      " |  \n",
      " |  ----------------------------------------------------------------------\n",
      " |  Data and other attributes defined here:\n",
      " |  \n",
      " |  context = {'core': 'https://openminds.ebrains.eu/core/', 'kg': 'https:...\n",
      " |  \n",
      " |  default_space = 'software'\n",
      " |  \n",
      " |  existence_query_fields = ('alias',)\n",
      " |  \n",
      " |  fields = [Field(name='name', types=(<class 'str'>,), path='vocab:fullN...\n",
      " |  \n",
      " |  type_ = ['https://openminds.ebrains.eu/core/Software']\n",
      " |  \n",
      " |  ----------------------------------------------------------------------\n",
      " |  Methods inherited from fairgraph.kgobject.KGObject:\n",
      " |  \n",
      " |  __eq__(self, other)\n",
      " |      Return self==value.\n",
      " |  \n",
      " |  __ne__(self, other)\n",
      " |      Return self!=value.\n",
      " |  \n",
      " |  __repr__(self)\n",
      " |      Return repr(self).\n",
      " |  \n",
      " |  children(self, client: 'KGClient', follow_links: 'Optional[Dict[str, Any]]' = None) -> 'List[RepresentsSingleObject]'\n",
      " |      Return a list of child objects.\n",
      " |  \n",
      " |  delete(self, client: 'KGClient', ignore_not_found: 'bool' = True)\n",
      " |      Delete the current metadata object from the KG.\n",
      " |      \n",
      " |      If `ignore_not_found` is False, an exception will be raised if the object does\n",
      " |      not exist. Otherwise, the method will finish silently.\n",
      " |  \n",
      " |  diff(self, other)\n",
      " |      Return a dictionary containing the differences between two metadata objects.\n",
      " |  \n",
      " |  exists(self, client: 'KGClient') -> 'bool'\n",
      " |      Check if this object already exists in the KnowledgeGraph\n",
      " |  \n",
      " |  export(self, path: 'str', single_file: 'bool' = False)\n",
      " |      Export metadata as files in JSON-LD format.\n",
      " |      \n",
      " |      If any objects do not have IDs, these will be generated.\n",
      " |      \n",
      " |      If `single_file` is False, then `path` must be the path to a directory,\n",
      " |      and each object will be exported as a file named for the object ID.\n",
      " |      \n",
      " |      If `single_file` is True, then `path` should be the path to a file\n",
      " |      with extension \".jsonld\". This file will contain metadata for all objects.\n",
      " |  \n",
      " |  modified_data(self) -> 'JSONdict'\n",
      " |      Return a dict containing the fields that have been modified locally\n",
      " |      from the values originally obtained from the Knowledge Graph.\n",
      " |  \n",
      " |  save(self, client: 'KGClient', space: 'Optional[str]' = None, recursive: 'bool' = True, activity_log: 'Optional[ActivityLog]' = None, replace: 'bool' = False, ignore_auth_errors: 'bool' = False)\n",
      " |      Store the current object in the Knowledge Graph, either updating an existing instance\n",
      " |      or creating a new one as appropriate.\n",
      " |      \n",
      " |      Args:\n",
      " |          client: KGClient object that handles the communication with the KG.\n",
      " |          space (str, optional): The KG space to save the object in. If not provided, a default space is used depending on the object type.\n",
      " |          recursive (bool, optional): Whether to recursively save any children of this object. Defaults to True.\n",
      " |          activity_log (ActivityLog, optional): An `ActivityLog` instance to log the operations performed during the save operation.\n",
      " |              This is particularly helpful with `recursive=True`.\n",
      " |          replace (bool, optional): Whether to completely replace an existing KG instance with this one, or just update the existing object\n",
      " |              with any modified fields. Defaults to False.\n",
      " |          ignore_auth_errors (bool, optional): Whether to continue silently when encountering authentication errors. Defaults to False.\n",
      " |      \n",
      " |      Raises:\n",
      " |          - An `AuthorizationError` if the current user is not authorized to perform the requested operation.\n",
      " |  \n",
      " |  show(self, max_width: 'Optional[int]' = None)\n",
      " |      Print a table showing the metadata contained in this object.\n",
      " |  \n",
      " |  ----------------------------------------------------------------------\n",
      " |  Class methods inherited from fairgraph.kgobject.KGObject:\n",
      " |  \n",
      " |  by_name(name: 'str', client: 'KGClient', match: 'str' = 'equals', all: 'bool' = False, space: 'Optional[str]' = None, scope: 'str' = 'released', follow_links: 'Optional[Dict[str, Any]]' = None) -> 'Union[KGObject, List[KGObject], None]' from fairgraph.registry.Registry\n",
      " |      Retrieve an instance from the Knowledge Graph based on its name.\n",
      " |      \n",
      " |      Note that not all metadata classes have a name field.\n",
      " |      \n",
      " |      Args:\n",
      " |          name (str): a string to search for in the name field.\n",
      " |          client: a KGClient\n",
      " |          match (str, optional): either \"equals\" (exact match - default) or \"contains\".\n",
      " |          all (bool, optional): Whether to return all objects that match the name, or only the first. Defaults to False.\n",
      " |          space (str, optional): the KG space to search in. Default is to search in all available spaces.\n",
      " |          scope (str, optional): The scope of the search. Valid values are \"released\", \"in progress\", or \"any\".\n",
      " |              Defaults to \"released\".\n",
      " |          follow_links (dict): The links in the graph to follow. Defaults to None.\n",
      " |  \n",
      " |  count(client: 'KGClient', api: 'str' = 'auto', scope: 'str' = 'released', space: 'Optional[str]' = None, **filters) -> 'int' from fairgraph.registry.Registry\n",
      " |      Count the number of objects of a given type and (optionally) matching a given set of filters.\n",
      " |      \n",
      " |      Args:\n",
      " |          client: KGClient object that handles the communication with the KG.\n",
      " |          api (str): The KG API to use for the query. Can be 'query', 'core', or 'auto'. Default is 'auto'.\n",
      " |          scope (str, optional): The scope to use for the query. Can be 'released', 'in progress', or 'all'. Default is 'released'.\n",
      " |          space (str, optional): The KG space to be queried. If not specified, results from all accessible spaces will be counted.\n",
      " |          filters: Optional keyword arguments representing filters to apply to the query.\n",
      " |      \n",
      " |      Returns:\n",
      " |          The number of instances of this class in the given space that would match the given filters,\n",
      " |          or the total number of instances if no filters are provided.\n",
      " |      \n",
      " |      Raises:\n",
      " |          ValueError: If invalid arguments are passed to the method.\n",
      " |          NotImplementedError: If 'follow_links' is used with api='core'.\n",
      " |      \n",
      " |      Example:\n",
      " |      \n",
      " |          >>> from fairgraph import KGClient\n",
      " |          >>> import fairgraph.openminds.controlledterms as terms\n",
      " |          >>> terms.CellType.count(client, name=\"interneuron\")\n",
      " |          8\n",
      " |  \n",
      " |  from_alias(alias: 'str', client: 'KGClient', space: 'Optional[str]' = None, scope: 'str' = 'released', follow_links: 'Optional[Dict[str, Any]]' = None) from fairgraph.registry.Registry\n",
      " |      Retrieve an instance from the Knowledge Graph based on its alias/short name.\n",
      " |      \n",
      " |      Note that not all metadata classes have an alias.\n",
      " |      \n",
      " |      Args:\n",
      " |          alias (str): a short name used to identify a KG instance.\n",
      " |          client: a KGClient\n",
      " |          space (str, optional): the KG space to look in. Default is to look in all available spaces.\n",
      " |          scope (str, optional): The scope of the lookup. Valid values are \"released\", \"in progress\", or \"any\".\n",
      " |              Defaults to \"released\".\n",
      " |          follow_links (dict): The links in the graph to follow. Defaults to None.\n",
      " |  \n",
      " |  from_id(id: 'str', client: 'KGClient', use_cache: 'bool' = True, scope: 'str' = 'released', follow_links: 'Optional[Dict[str, Any]]' = None) from fairgraph.registry.Registry\n",
      " |      Retrieve an instance from the Knowledge Graph based on either its URI or UUID.\n",
      " |      \n",
      " |      Args:\n",
      " |          id (str): short-form (UUID) or long-form (URI) identifier for the KG instance.\n",
      " |          client: a KGClient\n",
      " |          scope (str, optional): The scope of the lookup. Valid values are \"released\", \"in progress\", or \"any\".\n",
      " |              Defaults to \"released\".\n",
      " |          use_cache (bool): Whether to use cached data if they exist. Defaults to True.\n",
      " |          follow_links (dict): The links in the graph to follow. Defaults to None.\n",
      " |  \n",
      " |  from_kg_instance(data: 'JSONdict', client: 'KGClient', scope: 'Optional[str]' = None) from fairgraph.registry.Registry\n",
      " |      Create an instance of the class from a JSON-LD document.\n",
      " |  \n",
      " |  from_uri(uri: 'str', client: 'KGClient', use_cache: 'bool' = True, scope: 'str' = 'released', follow_links: 'Optional[Dict[str, Any]]' = None) from fairgraph.registry.Registry\n",
      " |      Retrieve an instance from the Knowledge Graph based on its URI.\n",
      " |      \n",
      " |      Args:\n",
      " |          uri (str): long-form identifier for the KG instance (a full URI)\n",
      " |          client: a KGClient\n",
      " |          scope (str, optional): The scope of the lookup. Valid values are \"released\", \"in progress\", or \"any\".\n",
      " |              Defaults to \"released\".\n",
      " |          use_cache (bool): Whether to use cached data if they exist. Defaults to True.\n",
      " |          follow_links (dict): The links in the graph to follow. Defaults to None.\n",
      " |  \n",
      " |  from_uuid(uuid: 'str', client: 'KGClient', use_cache: 'bool' = True, scope: 'str' = 'released', follow_links: 'Optional[Dict[str, Any]]' = None) from fairgraph.registry.Registry\n",
      " |      Retrieve an instance from the Knowledge Graph based on its UUID.\n",
      " |      \n",
      " |      Args:\n",
      " |          uuid (str): short-form identifier for the KG instance (a UUID).\n",
      " |          client: a KGClient\n",
      " |          scope (str, optional): The scope of the lookup. Valid values are \"released\", \"in progress\", or \"any\".\n",
      " |              Defaults to \"released\".\n",
      " |          use_cache (bool): Whether to use cached data if they exist. Defaults to True.\n",
      " |          follow_links (dict): The links in the graph to follow. Defaults to None.\n",
      " |  \n",
      " |  generate_query(client: 'KGClient', space: 'Union[str, None]', filters: 'Optional[Dict[str, Any]]' = None, follow_links: 'Optional[Dict[str, Any]]' = None, label: 'Optional[str]' = None) -> 'Union[Dict[str, Any], None]' from fairgraph.registry.Registry\n",
      " |      Generate a KG query definition as a JSON-LD document.\n",
      " |      \n",
      " |      Args:\n",
      " |          client: KGClient object that handles the communication with the KG.\n",
      " |          space (str, optional): if provided, restrict the query to metadata stored in the given KG space.\n",
      " |          filters (dict): A dictonary defining search parameters for the query.\n",
      " |          follow_links (dict): The links in the graph to follow. Defaults to None.\n",
      " |          label (str, optional): a label for the query\n",
      " |      \n",
      " |      Returns:\n",
      " |          A JSON-LD document containing the KG query definition.\n",
      " |  \n",
      " |  list(client: 'KGClient', size: 'int' = 100, from_index: 'int' = 0, api: 'str' = 'auto', scope: 'str' = 'released', space: 'Optional[str]' = None, follow_links: 'Optional[Dict[str, Any]]' = None, **filters) -> 'List[KGObject]' from fairgraph.registry.Registry\n",
      " |      List all objects of this type in the Knowledge Graph\n",
      " |      \n",
      " |      Args:\n",
      " |          client: KGClient object that handles the communication with the KG.\n",
      " |          size (int, optional): The maximum number of instances to return. Default is 100.\n",
      " |          from_index (int, optional): The index of the first instance to return. Default is 0.\n",
      " |          api (str): The KG API to use for the query. Can be 'query', 'core', or 'auto'. Default is 'auto'.\n",
      " |          scope (str, optional): The scope to use for the query. Can be 'released', 'in progress', or 'all'. Default is 'released'.\n",
      " |          space (str, optional): The KG space to be queried. If not specified, results from all accessible spaces will be included.\n",
      " |          follow_links (dict): The links in the graph to follow. Defaults to None.\n",
      " |          filters: Optional keyword arguments representing filters to apply to the query.\n",
      " |      \n",
      " |      Returns:\n",
      " |          A list of instances of this class representing the objects returned by the KG query.\n",
      " |      \n",
      " |      Raises:\n",
      " |          ValueError: If invalid arguments are passed to the method.\n",
      " |          NotImplementedError: If 'follow_links' is used with api='core'.\n",
      " |      \n",
      " |      Example:\n",
      " |      \n",
      " |          >>> from fairgraph import KGClient\n",
      " |          >>> import fairgraph.openminds.controlledterms as terms\n",
      " |          >>> interneuron_types = terms.CellType.list(client, name=\"interneuron\")\n",
      " |          >>> for ct in interneuron_types[:4]:\n",
      " |          ...     print(f\"{ct.name:<30} {ct.definition}\")\n",
      " |          cerebellar interneuron         None\n",
      " |          cholinergic interneuron        An inhibitory interneuron which mainly uses the neurotrasmitter acetylcholine (ACh).\n",
      " |          cortical interneuron           None\n",
      " |          fast spiking interneuron       A parvalbumin positive GABAergic interneuron with a high-frequency firing pattern.\n",
      " |  \n",
      " |  uri_from_uuid(uuid: 'str', client: 'KGClient') -> 'str' from fairgraph.registry.Registry\n",
      " |      Convert an instances short-form identifier (a UUID) into the long-form (a URI)\n",
      " |  \n",
      " |  ----------------------------------------------------------------------\n",
      " |  Readonly properties inherited from fairgraph.kgobject.KGObject:\n",
      " |  \n",
      " |  space\n",
      " |  \n",
      " |  uuid\n",
      " |  \n",
      " |  ----------------------------------------------------------------------\n",
      " |  Data and other attributes inherited from fairgraph.kgobject.KGObject:\n",
      " |  \n",
      " |  __annotations__ = {'existence_query_fields': 'Tuple[str, ...]', 'field...\n",
      " |  \n",
      " |  __hash__ = None\n",
      " |  \n",
      " |  ----------------------------------------------------------------------\n",
      " |  Methods inherited from fairgraph.base.ContainsMetadata:\n",
      " |  \n",
      " |  resolve(self, client: 'KGClient', scope: 'Optional[str]' = None, use_cache: 'bool' = True, follow_links: 'Optional[Dict[str, Any]]' = None)\n",
      " |      Resolve fields that are represented by KGProxy objects.\n",
      " |      \n",
      " |      Args:\n",
      " |          client: KGClient object that handles the communication with the KG.\n",
      " |          scope (str): The scope of instances to include in the response.\n",
      " |                 Valid values are 'released', 'in progress', 'any'.\n",
      " |          use_cache (bool): whether to use cached data if they exist. Defaults to True.\n",
      " |          follow_links (dict): The links in the graph to follow. Defaults to None.\n",
      " |      \n",
      " |      Note: a real (non-proxy) object resolves to itself.\n",
      " |  \n",
      " |  to_jsonld(self, normalized: 'bool' = True, follow_links: 'bool' = False, include_empty_fields: 'bool' = False, include_reverse_fields: 'bool' = False)\n",
      " |      Return a JSON-LD representation of this metadata object\n",
      " |      \n",
      " |      Args:\n",
      " |          normalized (bool): Whether to expand all URIs. Defaults to True.\n",
      " |          follow_links (bool, optional): Whether to represent linked objects just by their \"@id\"\n",
      " |              or to include their full metadata. Defaults to False.\n",
      " |          include_empty_fields (bool, optional): Whether to include empty fields (with value \"null\").\n",
      " |              Defaults to False.\n",
      " |  \n",
      " |  ----------------------------------------------------------------------\n",
      " |  Class methods inherited from fairgraph.base.ContainsMetadata:\n",
      " |  \n",
      " |  from_jsonld(data: 'JSONdict', client: 'KGClient', scope: 'Optional[str]' = None) from fairgraph.registry.Registry\n",
      " |      Create an instance of the class from a JSON-LD document.\n",
      " |  \n",
      " |  generate_query_filter_properties(filters: 'Optional[Dict[str, Any]]' = None) from fairgraph.registry.Registry\n",
      " |      Args:\n",
      " |          filters (dict, optional): A dict containing search parameters for the query.\n",
      " |  \n",
      " |  generate_query_properties(follow_links: 'Optional[Dict[str, Any]]' = None) from fairgraph.registry.Registry\n",
      " |      Generate a list of QueryProperty instances for this class\n",
      " |      for use in constructing a KG query definition.\n",
      " |      \n",
      " |      Args:\n",
      " |          follow_links (dict): The links in the graph to follow when constructing the query. Defaults to None.\n",
      " |  \n",
      " |  normalize_filter(filter_dict: 'Dict[str, Any]') -> 'Dict[str, Any]' from fairgraph.registry.Registry\n",
      " |      Normalize a dict containing filter key:value pairs so that it can be used\n",
      " |      in a call to the KG query API.\n",
      " |      \n",
      " |      Example:\n",
      " |          >>> import fairgraph.openminds.core as omcore\n",
      " |          >>> person = omcore.Person.from_uuid(\"045f846f-f010-4db8-97b9-b95b20970bf2\", kg_client)\n",
      " |          >>> filter_dict = {\"custodians\": person, \"name\": \"Virtual\"}\n",
      " |          >>> omcore.Dataset.normalize_filter(filter_dict)\n",
      " |          {'name': 'Virtual',\n",
      " |           'custodians': 'https://kg.ebrains.eu/api/instances/045f846f-f010-4db8-97b9-b95b20970bf2'}\n",
      " |  \n",
      " |  set_error_handling(value: 'Union[ErrorHandling, None]', field_names: 'Optional[Union[str, List[str]]]' = None) from fairgraph.registry.Registry\n",
      " |      Control validation for this class.\n",
      " |      \n",
      " |      Args:\n",
      " |          value (str): action to follow when there is a validation failure.\n",
      " |              (e.g. if a required field is not provided).\n",
      " |              Possible values: \"error\", \"warning\", \"log\", None\n",
      " |          field_names (str or list of str, optional): If not provided, the error handling\n",
      " |              mode will be applied to all fields. If a field name or list of names is given,\n",
      " |              the mode will be applied only to those fields.\n",
      " |  \n",
      " |  ----------------------------------------------------------------------\n",
      " |  Methods inherited from fairgraph.base.RepresentsSingleObject:\n",
      " |  \n",
      " |  is_released(self, client: 'KGClient', with_children: 'bool' = False) -> 'bool'\n",
      " |      Release status of the node\n",
      " |  \n",
      " |  release(self, client: 'KGClient', with_children: 'bool' = False)\n",
      " |      Release this node (make it available in public search).\n",
      " |  \n",
      " |  unrelease(self, client: 'KGClient', with_children: 'bool' = False)\n",
      " |      Un-release this node (remove it from public search).\n",
      " |  \n",
      " |  ----------------------------------------------------------------------\n",
      " |  Data descriptors inherited from fairgraph.base.Resolvable:\n",
      " |  \n",
      " |  __dict__\n",
      " |      dictionary for instance variables (if defined)\n",
      " |  \n",
      " |  __weakref__\n",
      " |      list of weak references to the object (if defined)\n",
      "\n"
     ]
    }
   ],
   "source": [
    "from fairgraph.openminds.core import Software\n",
    "\n",
    "help(Software)"
   ]
  },
  {
   "cell_type": "markdown",
   "id": "c019db7f-53c8-45fd-876a-69c4d2740d3f",
   "metadata": {},
   "source": [
    "### Statistics\n",
    "\n",
    "To retrieve the number of nodes that match a given query, but without retrieving all of the data, use the `count()` method. This can be much quicker if there are a lot of nodes."
   ]
  },
  {
   "cell_type": "code",
   "execution_count": 17,
   "id": "2af18ff7-15b6-4a39-ad1e-cb90b464b469",
   "metadata": {},
   "outputs": [
    {
     "name": "stderr",
     "output_type": "stream",
     "text": [
      "Mismatched types: <class 'fairgraph.openminds.core.products.model_version.ModelVersion'> <> ['https://openminds.ebrains.eu/publications/ScholarlyArticle']\n"
     ]
    },
    {
     "name": "stdout",
     "output_type": "stream",
     "text": [
      "225\n"
     ]
    }
   ],
   "source": [
    "mmigliore = omcore.Person.list(kg_client, family_name=\"Migliore\", given_name=\"Michele\")[0]\n",
    "n_mmigliore_models = omcore.Model.count(kg_client, custodian=mmigliore)\n",
    "print(n_mmigliore_models)"
   ]
  },
  {
   "cell_type": "markdown",
   "id": "b53fb46e-c10e-48e6-a26f-02115b5c1a6c",
   "metadata": {},
   "source": [
    "### openMINDS modules\n",
    "\n",
    "The KG uses openMINDS schemas, which are divided into different modules. In fairgraph, each of these is represented by a Python module, and each schema by a Python class. To get a list of modules:"
   ]
  },
  {
   "cell_type": "code",
   "execution_count": 22,
   "id": "f8d71c41-f77c-4ca7-b43d-0d8d990a10ea",
   "metadata": {},
   "outputs": [
    {
     "data": {
      "text/plain": [
       "['chemicals',\n",
       " 'computation',\n",
       " 'controlledterms',\n",
       " 'core',\n",
       " 'ephys',\n",
       " 'publications',\n",
       " 'sands',\n",
       " 'specimenprep',\n",
       " 'stimulation']"
      ]
     },
     "execution_count": 22,
     "metadata": {},
     "output_type": "execute_result"
    }
   ],
   "source": [
    "import fairgraph.openminds\n",
    "[mod for mod in dir(fairgraph.openminds) if not mod.startswith(\"__\")]"
   ]
  },
  {
   "cell_type": "markdown",
   "id": "c41c056f-77f9-479a-9515-3c1126c21a26",
   "metadata": {},
   "source": [
    "To get a list of the classes in each module, use the `list_kg_classes()` function:"
   ]
  },
  {
   "cell_type": "code",
   "execution_count": 26,
   "id": "a24150b6-7017-444d-a53d-8819de23a6db",
   "metadata": {},
   "outputs": [
    {
     "name": "stdout",
     "output_type": "stream",
     "text": [
      "['ActionStatusType', 'AgeCategory', 'AnalysisTechnique', 'AnatomicalAxesOrientation', 'AnatomicalIdentificationType', 'AnatomicalPlane', 'AnnotationCriteriaType', 'AnnotationType', 'AtlasType', 'AuditoryStimulusType', 'BiologicalOrder', 'BiologicalSex', 'BreedingType', 'CellCultureType', 'CellType', 'ChemicalMixtureType', 'Colormap', 'ContributionType', 'CranialWindowConstructionType', 'CranialWindowReinforcementType', 'CriteriaQualityType', 'DataType', 'DeviceType', 'DifferenceMeasure', 'Disease', 'DiseaseModel', 'EducationalLevel', 'ElectricalStimulusType', 'EthicsAssessment', 'ExperimentalApproach', 'FileBundleGrouping', 'FileRepositoryType', 'FileUsageRole', 'GeneticStrainType', 'GustatoryStimulusType', 'Handedness', 'Language', 'Laterality', 'LearningResourceType', 'MeasuredQuantity', 'MetaDataModelType', 'ModelAbstractionLevel', 'ModelScope', 'MolecularEntity', 'OlfactoryStimulusType', 'OperatingDevice', 'OperatingSystem', 'OpticalStimulusType', 'Organ', 'OrganismSubstance', 'OrganismSystem', 'PatchClampVariation', 'PreparationType', 'ProductAccessibility', 'ProgrammingLanguage', 'QualitativeOverlap', 'SemanticDataType', 'Service', 'SetupType', 'SoftwareApplicationCategory', 'SoftwareFeature', 'Species', 'StimulationApproach', 'StimulationTechnique', 'SubcellularEntity', 'SubjectAttribute', 'TactileStimulusType', 'Technique', 'TermSuggestion', 'Terminology', 'TissueSampleAttribute', 'TissueSampleType', 'TypeOfUncertainty', 'UBERONParcellation', 'UnitOfMeasurement', 'VisualStimulusType']\n"
     ]
    }
   ],
   "source": [
    "import fairgraph.openminds.controlledterms as terms\n",
    "\n",
    "classes = terms.list_kg_classes()\n",
    "print([cls.__name__ for cls in classes])"
   ]
  },
  {
   "cell_type": "code",
   "execution_count": null,
   "id": "af44610d-03d2-45ba-a924-50feb3239fca",
   "metadata": {},
   "outputs": [],
   "source": []
  },
  {
   "cell_type": "markdown",
   "id": "cff2df42-e1c1-47be-bba7-265ea1976c48",
   "metadata": {},
   "source": [
    "## Adding new metadata to the Knowledge Graph"
   ]
  },
  {
   "cell_type": "code",
   "execution_count": null,
   "id": "46b07e31-2a16-4d32-bf96-b396eb5158df",
   "metadata": {},
   "outputs": [],
   "source": []
  },
  {
   "cell_type": "code",
   "execution_count": null,
   "id": "0e3632bb-6253-4a2b-b60b-00c418cddae9",
   "metadata": {},
   "outputs": [],
   "source": []
  },
  {
   "cell_type": "code",
   "execution_count": null,
   "id": "94c117ea-a3fd-4cb8-8133-734bc912488f",
   "metadata": {},
   "outputs": [],
   "source": []
  },
  {
   "cell_type": "code",
   "execution_count": null,
   "id": "c612318d-be4d-4dab-8662-20d4465cf8f3",
   "metadata": {},
   "outputs": [],
   "source": []
  }
 ],
 "metadata": {
  "kernelspec": {
   "display_name": "Python 3 (ipykernel)",
   "language": "python",
   "name": "python3"
  },
  "language_info": {
   "codemirror_mode": {
    "name": "ipython",
    "version": 3
   },
   "file_extension": ".py",
   "mimetype": "text/x-python",
   "name": "python",
   "nbconvert_exporter": "python",
   "pygments_lexer": "ipython3",
   "version": "3.9.6"
  }
 },
 "nbformat": 4,
 "nbformat_minor": 5
}
